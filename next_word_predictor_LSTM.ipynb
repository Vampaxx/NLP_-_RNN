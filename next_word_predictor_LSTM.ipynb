{
 "cells": [
  {
   "cell_type": "code",
   "execution_count": 1,
   "metadata": {},
   "outputs": [],
   "source": [
    "import numpy as np\n",
    "import nltk\n"
   ]
  },
  {
   "cell_type": "code",
   "execution_count": 2,
   "metadata": {},
   "outputs": [],
   "source": [
    "data = \"\"\"About the Program\n",
    "What is the course fee for  Data Science Mentorship Program (DSMP 2023)\n",
    "The course follows a monthly subscription model where you have to make monthly payments of Rs 799/month.\n",
    "What is the total duration of the course?\n",
    "The total duration of the course is 7 months. So the total course fee becomes 799*7 = Rs 5600(approx.)\n",
    "What is the syllabus of the mentorship program?\n",
    "We will be covering the following modules:\n",
    "Python Fundamentals\n",
    "Python libraries for Data Science\n",
    "Data Analysis\n",
    "SQL for Data Science\n",
    "Maths for Machine Learning\n",
    "ML Algorithms\n",
    "Practical ML\n",
    "MLOPs\n",
    "Case studies\n",
    "You can check the detailed syllabus here - https://learnwith.campusx.in/courses/CampusX-Data-Science-Mentorship-Program-637339afe4b0615a1bbed390\n",
    "Will Deep Learning and NLP be a part of this program?\n",
    "No, NLP and Deep Learning both are not a part of this program’s curriculum.\n",
    "What if I miss a live session? Will I get a recording of the session?\n",
    "Yes all our sessions are recorded, so even if you miss a session you can go back and watch the recording.\n",
    "Where can I find the class schedule?\n",
    "Checkout this google sheet to see month by month time table of the course - https://docs.google.com/spreadsheets/d/16OoTax_A6ORAeCg4emgexhqqPv3noQPYKU7RJ6ArOzk/edit?usp=sharing.\n",
    "What is the time duration of all the live sessions?\n",
    "Roughly, all the sessions last 2 hours.\n",
    "What is the language spoken by the instructor during the sessions?\n",
    "Hinglish\n",
    "How will I be informed about the upcoming class?\n",
    "You will get a mail from our side before every paid session once you become a paid user.\n",
    "Can I do this course if I am from a non-tech background?\n",
    "Yes, absolutely.\n",
    "I am late, can I join the program in the middle?\n",
    "Absolutely, you can join the program anytime.\n",
    "If I join/pay in the middle, will I be able to see all the past lectures?\n",
    "Yes, once you make the payment you will be able to see all the past content in your dashboard.\n",
    "Where do I have to submit the task?\n",
    "You don’t have to submit the task. We will provide you with the solutions, you have to self evaluate the task yourself.\n",
    "Will we do case studies in the program?\n",
    "Yes.\n",
    "Where can we contact you?\n",
    "You can mail us at nitish.campusx@gmail.com\n",
    "Payment/Registration related questions\n",
    "Where do we have to make our payments? Your YouTube channel or website?\n",
    "You have to make all your monthly payments on our website. Here is the link for our website - https://learnwith.campusx.in/\n",
    "Can we pay the entire amount of Rs 5600 all at once?\n",
    "Unfortunately no, the program follows a monthly subscription model.\n",
    "What is the validity of monthly subscription? Suppose if I pay on 15th Jan, then do I have to pay again on 1st Feb or 15th Feb\n",
    "15th Feb. The validity period is 30 days from the day you make the payment. So essentially you can join anytime you don’t have to wait for a month to end.\n",
    "What if I don’t like the course after making the payment. What is the refund policy?\n",
    "You get a 7 days refund period from the day you have made the payment.\n",
    "I am living outside India and I am not able to make the payment on the website, what should I do?\n",
    "You have to contact us by sending a mail at nitish.campusx@gmail.com\n",
    "Post registration queries\n",
    "Till when can I view the paid videos on the website?\n",
    "This one is tricky, so read carefully. You can watch the videos till your subscription is valid. Suppose you have purchased subscription on 21st Jan, you will be able to watch all the past paid sessions in the period of 21st Jan to 20th Feb. But after 21st Feb you will have to purchase the subscription again.\n",
    "But once the course is over and you have paid us Rs 5600(or 7 installments of Rs 799) you will be able to watch the paid sessions till Aug 2024.\n",
    "Why lifetime validity is not provided?\n",
    "Because of the low course fee.\n",
    "Where can I reach out in case of a doubt after the session?\n",
    "You will have to fill a google form provided in your dashboard and our team will contact you for a 1 on 1 doubt clearance session\n",
    "If I join the program late, can I still ask past week doubts?\n",
    "Yes, just select past week doubt in the doubt clearance google form.\n",
    "I am living outside India and I am not able to make the payment on the website, what should I do?\n",
    "You have to contact us by sending a mail at nitish.campusx@gmai.com\n",
    "Certificate and Placement Assistance related queries\n",
    "What is the criteria to get the certificate?\n",
    "There are 2 criterias:\n",
    "You have to pay the entire fee of Rs 5600\n",
    "You have to attempt all the course assessments.\n",
    "I am joining late. How can I pay payment of the earlier months?\n",
    "You will get a link to pay fee of earlier months in your dashboard once you pay for the current month.\n",
    "I have read that Placement assistance is a part of this program. What comes under Placement assistance?\n",
    "This is to clarify that Placement assistance does not mean Placement guarantee. So we dont guarantee you any jobs or for that matter even interview calls. So if you are planning to join this course just for placements, I am afraid you will be disappointed. Here is what comes under placement assistance\n",
    "Portfolio Building sessions\n",
    "Soft skill sessions\n",
    "Sessions with industry mentors\n",
    "Discussion on Job hunting strategies\n",
    "\"\"\""
   ]
  },
  {
   "cell_type": "code",
   "execution_count": 3,
   "metadata": {},
   "outputs": [],
   "source": [
    "import tensorflow as tf\n",
    "from tensorflow.keras.preprocessing.text import Tokenizer"
   ]
  },
  {
   "cell_type": "code",
   "execution_count": 4,
   "metadata": {},
   "outputs": [],
   "source": [
    "tokenizer = Tokenizer()"
   ]
  },
  {
   "cell_type": "code",
   "execution_count": 5,
   "metadata": {},
   "outputs": [],
   "source": [
    "tokenizer.fit_on_texts([data])"
   ]
  },
  {
   "cell_type": "code",
   "execution_count": 6,
   "metadata": {},
   "outputs": [],
   "source": [
    "input_sequence = []\n",
    "for sentence in data.split('\\n'):\n",
    "  tokenized_sentence = tokenizer.texts_to_sequences([sentence])[0]\n",
    "  \n",
    "\n",
    "  for i in range(1,len(tokenized_sentence)):\n",
    "    input_sequence.append(tokenized_sentence[:i+1])\n",
    "# max length sentence    \n",
    "max_len = max([len(x) for x in input_sequence])"
   ]
  },
  {
   "cell_type": "code",
   "execution_count": 7,
   "metadata": {},
   "outputs": [],
   "source": [
    "from tensorflow.keras.preprocessing.sequence import pad_sequences\n",
    "from tensorflow.keras.utils                  import to_categorical"
   ]
  },
  {
   "cell_type": "code",
   "execution_count": 8,
   "metadata": {},
   "outputs": [],
   "source": [
    "# preprocessing the text, \n",
    "# converting the list into array\n",
    "padded_input_sequence = pad_sequences(input_sequence,maxlen=max_len,padding='pre')\n",
    "#'pre' or \"post\" (optional): pad either before or after each sequence. "
   ]
  },
  {
   "cell_type": "markdown",
   "metadata": {},
   "source": [
    "## split the data \n"
   ]
  },
  {
   "cell_type": "code",
   "execution_count": 9,
   "metadata": {},
   "outputs": [],
   "source": [
    "X = padded_input_sequence[:,:-1]\n",
    "Y = padded_input_sequence[:,-1]\n"
   ]
  },
  {
   "cell_type": "code",
   "execution_count": 10,
   "metadata": {},
   "outputs": [],
   "source": [
    "## One hotencording\n",
    "no_class = len(tokenizer.word_index) + 1\n",
    "y = to_categorical(Y,num_classes=no_class)\n"
   ]
  },
  {
   "cell_type": "code",
   "execution_count": 11,
   "metadata": {},
   "outputs": [
    {
     "data": {
      "text/plain": [
       "(863, 283)"
      ]
     },
     "execution_count": 11,
     "metadata": {},
     "output_type": "execute_result"
    }
   ],
   "source": [
    "y.shape"
   ]
  },
  {
   "cell_type": "markdown",
   "metadata": {},
   "source": [
    "## Modeling"
   ]
  },
  {
   "cell_type": "code",
   "execution_count": 12,
   "metadata": {},
   "outputs": [],
   "source": [
    "from tensorflow.keras.models import Sequential\n",
    "from tensorflow.keras.layers import Embedding,LSTM,Dense"
   ]
  },
  {
   "cell_type": "code",
   "execution_count": 13,
   "metadata": {},
   "outputs": [],
   "source": [
    "model = Sequential()\n",
    "model.add(Embedding(283,100,input_length = 56))\n",
    "model.add(LSTM(150))\n",
    "model.add(Dense(283,activation='softmax'))"
   ]
  },
  {
   "cell_type": "code",
   "execution_count": 14,
   "metadata": {},
   "outputs": [
    {
     "name": "stdout",
     "output_type": "stream",
     "text": [
      "Model: \"sequential\"\n",
      "_________________________________________________________________\n",
      " Layer (type)                Output Shape              Param #   \n",
      "=================================================================\n",
      " embedding (Embedding)       (None, 56, 100)           28300     \n",
      "                                                                 \n",
      " lstm (LSTM)                 (None, 150)               150600    \n",
      "                                                                 \n",
      " dense (Dense)               (None, 283)               42733     \n",
      "                                                                 \n",
      "=================================================================\n",
      "Total params: 221,633\n",
      "Trainable params: 221,633\n",
      "Non-trainable params: 0\n",
      "_________________________________________________________________\n"
     ]
    }
   ],
   "source": [
    "model.summary()"
   ]
  },
  {
   "cell_type": "code",
   "execution_count": 15,
   "metadata": {},
   "outputs": [],
   "source": [
    "model.compile(loss='categorical_crossentropy',optimizer='adam',metrics=['accuracy'])"
   ]
  },
  {
   "cell_type": "code",
   "execution_count": 16,
   "metadata": {},
   "outputs": [
    {
     "name": "stdout",
     "output_type": "stream",
     "text": [
      "Epoch 1/100\n",
      "27/27 [==============================] - 3s 9ms/step - loss: 5.4804 - accuracy: 0.0626\n",
      "Epoch 2/100\n",
      "27/27 [==============================] - 0s 10ms/step - loss: 5.0990 - accuracy: 0.0776\n",
      "Epoch 3/100\n",
      "27/27 [==============================] - 0s 11ms/step - loss: 5.0195 - accuracy: 0.0776\n",
      "Epoch 4/100\n",
      "27/27 [==============================] - 0s 10ms/step - loss: 4.9820 - accuracy: 0.0776\n",
      "Epoch 5/100\n",
      "27/27 [==============================] - 0s 9ms/step - loss: 4.9252 - accuracy: 0.0776\n",
      "Epoch 6/100\n",
      "27/27 [==============================] - 0s 10ms/step - loss: 4.8251 - accuracy: 0.0776\n",
      "Epoch 7/100\n",
      "27/27 [==============================] - 0s 10ms/step - loss: 4.6678 - accuracy: 0.1043\n",
      "Epoch 8/100\n",
      "27/27 [==============================] - 0s 10ms/step - loss: 4.4655 - accuracy: 0.1414\n",
      "Epoch 9/100\n",
      "27/27 [==============================] - 0s 10ms/step - loss: 4.2564 - accuracy: 0.1669\n",
      "Epoch 10/100\n",
      "27/27 [==============================] - 0s 10ms/step - loss: 4.0517 - accuracy: 0.1958\n",
      "Epoch 11/100\n",
      "27/27 [==============================] - 0s 10ms/step - loss: 3.8350 - accuracy: 0.2132\n",
      "Epoch 12/100\n",
      "27/27 [==============================] - 0s 10ms/step - loss: 3.6276 - accuracy: 0.2503\n",
      "Epoch 13/100\n",
      "27/27 [==============================] - 0s 10ms/step - loss: 3.4261 - accuracy: 0.2816\n",
      "Epoch 14/100\n",
      "27/27 [==============================] - 0s 10ms/step - loss: 3.2214 - accuracy: 0.3187\n",
      "Epoch 15/100\n",
      "27/27 [==============================] - 0s 10ms/step - loss: 3.0126 - accuracy: 0.3511\n",
      "Epoch 16/100\n",
      "27/27 [==============================] - 0s 10ms/step - loss: 2.8288 - accuracy: 0.4009\n",
      "Epoch 17/100\n",
      "27/27 [==============================] - 0s 10ms/step - loss: 2.6338 - accuracy: 0.4334\n",
      "Epoch 18/100\n",
      "27/27 [==============================] - 0s 11ms/step - loss: 2.4750 - accuracy: 0.4623\n",
      "Epoch 19/100\n",
      "27/27 [==============================] - 0s 10ms/step - loss: 2.3029 - accuracy: 0.5017\n",
      "Epoch 20/100\n",
      "27/27 [==============================] - 0s 9ms/step - loss: 2.1560 - accuracy: 0.5295\n",
      "Epoch 21/100\n",
      "27/27 [==============================] - 0s 10ms/step - loss: 2.0126 - accuracy: 0.5655\n",
      "Epoch 22/100\n",
      "27/27 [==============================] - 0s 9ms/step - loss: 1.8708 - accuracy: 0.6118\n",
      "Epoch 23/100\n",
      "27/27 [==============================] - 0s 9ms/step - loss: 1.7442 - accuracy: 0.6454\n",
      "Epoch 24/100\n",
      "27/27 [==============================] - 0s 10ms/step - loss: 1.6238 - accuracy: 0.6674\n",
      "Epoch 25/100\n",
      "27/27 [==============================] - 0s 10ms/step - loss: 1.5237 - accuracy: 0.6987\n",
      "Epoch 26/100\n",
      "27/27 [==============================] - 0s 10ms/step - loss: 1.4182 - accuracy: 0.7207\n",
      "Epoch 27/100\n",
      "27/27 [==============================] - 0s 10ms/step - loss: 1.3284 - accuracy: 0.7346\n",
      "Epoch 28/100\n",
      "27/27 [==============================] - 0s 10ms/step - loss: 1.2301 - accuracy: 0.7729\n",
      "Epoch 29/100\n",
      "27/27 [==============================] - 0s 10ms/step - loss: 1.1505 - accuracy: 0.7914\n",
      "Epoch 30/100\n",
      "27/27 [==============================] - 0s 10ms/step - loss: 1.0744 - accuracy: 0.8158\n",
      "Epoch 31/100\n",
      "27/27 [==============================] - 0s 11ms/step - loss: 1.0037 - accuracy: 0.8355\n",
      "Epoch 32/100\n",
      "27/27 [==============================] - 0s 11ms/step - loss: 0.9369 - accuracy: 0.8470\n",
      "Epoch 33/100\n",
      "27/27 [==============================] - 0s 10ms/step - loss: 0.8755 - accuracy: 0.8702\n",
      "Epoch 34/100\n",
      "27/27 [==============================] - 0s 10ms/step - loss: 0.8290 - accuracy: 0.8691\n",
      "Epoch 35/100\n",
      "27/27 [==============================] - 0s 10ms/step - loss: 0.7744 - accuracy: 0.8888\n",
      "Epoch 36/100\n",
      "27/27 [==============================] - 0s 11ms/step - loss: 0.7267 - accuracy: 0.8934\n",
      "Epoch 37/100\n",
      "27/27 [==============================] - 0s 11ms/step - loss: 0.6853 - accuracy: 0.9073\n",
      "Epoch 38/100\n",
      "27/27 [==============================] - 0s 11ms/step - loss: 0.6474 - accuracy: 0.9061\n",
      "Epoch 39/100\n",
      "27/27 [==============================] - 0s 10ms/step - loss: 0.6082 - accuracy: 0.9096\n",
      "Epoch 40/100\n",
      "27/27 [==============================] - 0s 11ms/step - loss: 0.5759 - accuracy: 0.9177\n",
      "Epoch 41/100\n",
      "27/27 [==============================] - 0s 11ms/step - loss: 0.5445 - accuracy: 0.9270\n",
      "Epoch 42/100\n",
      "27/27 [==============================] - 0s 10ms/step - loss: 0.5178 - accuracy: 0.9200\n",
      "Epoch 43/100\n",
      "27/27 [==============================] - 0s 9ms/step - loss: 0.4902 - accuracy: 0.9270\n",
      "Epoch 44/100\n",
      "27/27 [==============================] - 0s 9ms/step - loss: 0.4658 - accuracy: 0.9293\n",
      "Epoch 45/100\n",
      "27/27 [==============================] - 0s 8ms/step - loss: 0.4468 - accuracy: 0.9293\n",
      "Epoch 46/100\n",
      "27/27 [==============================] - 0s 8ms/step - loss: 0.4235 - accuracy: 0.9351\n",
      "Epoch 47/100\n",
      "27/27 [==============================] - 0s 9ms/step - loss: 0.4030 - accuracy: 0.9340\n",
      "Epoch 48/100\n",
      "27/27 [==============================] - 0s 10ms/step - loss: 0.3880 - accuracy: 0.9386\n",
      "Epoch 49/100\n",
      "27/27 [==============================] - 0s 10ms/step - loss: 0.3706 - accuracy: 0.9444\n",
      "Epoch 50/100\n",
      "27/27 [==============================] - 0s 10ms/step - loss: 0.3538 - accuracy: 0.9409\n",
      "Epoch 51/100\n",
      "27/27 [==============================] - 0s 10ms/step - loss: 0.3418 - accuracy: 0.9386\n",
      "Epoch 52/100\n",
      "27/27 [==============================] - 0s 10ms/step - loss: 0.3268 - accuracy: 0.9397\n",
      "Epoch 53/100\n",
      "27/27 [==============================] - 0s 10ms/step - loss: 0.3151 - accuracy: 0.9374\n",
      "Epoch 54/100\n",
      "27/27 [==============================] - 0s 10ms/step - loss: 0.3070 - accuracy: 0.9467\n",
      "Epoch 55/100\n",
      "27/27 [==============================] - 0s 11ms/step - loss: 0.2917 - accuracy: 0.9444\n",
      "Epoch 56/100\n",
      "27/27 [==============================] - 0s 11ms/step - loss: 0.2820 - accuracy: 0.9444\n",
      "Epoch 57/100\n",
      "27/27 [==============================] - 0s 11ms/step - loss: 0.2756 - accuracy: 0.9432\n",
      "Epoch 58/100\n",
      "27/27 [==============================] - 0s 12ms/step - loss: 0.2654 - accuracy: 0.9455\n",
      "Epoch 59/100\n",
      "27/27 [==============================] - 0s 11ms/step - loss: 0.2582 - accuracy: 0.9421\n",
      "Epoch 60/100\n",
      "27/27 [==============================] - 0s 10ms/step - loss: 0.2514 - accuracy: 0.9432\n",
      "Epoch 61/100\n",
      "27/27 [==============================] - 0s 10ms/step - loss: 0.2421 - accuracy: 0.9467\n",
      "Epoch 62/100\n",
      "27/27 [==============================] - 0s 10ms/step - loss: 0.2383 - accuracy: 0.9467\n",
      "Epoch 63/100\n",
      "27/27 [==============================] - 0s 10ms/step - loss: 0.2311 - accuracy: 0.9467\n",
      "Epoch 64/100\n",
      "27/27 [==============================] - 0s 10ms/step - loss: 0.2253 - accuracy: 0.9513\n",
      "Epoch 65/100\n",
      "27/27 [==============================] - 0s 10ms/step - loss: 0.2198 - accuracy: 0.9432\n",
      "Epoch 66/100\n",
      "27/27 [==============================] - 0s 11ms/step - loss: 0.2139 - accuracy: 0.9432\n",
      "Epoch 67/100\n",
      "27/27 [==============================] - 0s 11ms/step - loss: 0.2079 - accuracy: 0.9479\n",
      "Epoch 68/100\n",
      "27/27 [==============================] - 0s 10ms/step - loss: 0.2054 - accuracy: 0.9421\n",
      "Epoch 69/100\n",
      "27/27 [==============================] - 0s 10ms/step - loss: 0.2009 - accuracy: 0.9479\n",
      "Epoch 70/100\n",
      "27/27 [==============================] - 0s 10ms/step - loss: 0.1980 - accuracy: 0.9467\n",
      "Epoch 71/100\n",
      "27/27 [==============================] - 0s 10ms/step - loss: 0.1950 - accuracy: 0.9444\n",
      "Epoch 72/100\n",
      "27/27 [==============================] - 0s 10ms/step - loss: 0.1910 - accuracy: 0.9455\n",
      "Epoch 73/100\n",
      "27/27 [==============================] - 0s 9ms/step - loss: 0.1860 - accuracy: 0.9479\n",
      "Epoch 74/100\n",
      "27/27 [==============================] - 0s 9ms/step - loss: 0.1855 - accuracy: 0.9397\n",
      "Epoch 75/100\n",
      "27/27 [==============================] - 0s 10ms/step - loss: 0.1794 - accuracy: 0.9490\n",
      "Epoch 76/100\n",
      "27/27 [==============================] - 0s 11ms/step - loss: 0.1791 - accuracy: 0.9455\n",
      "Epoch 77/100\n",
      "27/27 [==============================] - 0s 11ms/step - loss: 0.1739 - accuracy: 0.9455\n",
      "Epoch 78/100\n",
      "27/27 [==============================] - 0s 10ms/step - loss: 0.1729 - accuracy: 0.9490\n",
      "Epoch 79/100\n",
      "27/27 [==============================] - 0s 11ms/step - loss: 0.1692 - accuracy: 0.9490\n",
      "Epoch 80/100\n",
      "27/27 [==============================] - 0s 11ms/step - loss: 0.1664 - accuracy: 0.9490\n",
      "Epoch 81/100\n",
      "27/27 [==============================] - 0s 12ms/step - loss: 0.1689 - accuracy: 0.9467\n",
      "Epoch 82/100\n",
      "27/27 [==============================] - 0s 12ms/step - loss: 0.1657 - accuracy: 0.9455\n",
      "Epoch 83/100\n",
      "27/27 [==============================] - 0s 13ms/step - loss: 0.1620 - accuracy: 0.9455\n",
      "Epoch 84/100\n",
      "27/27 [==============================] - 0s 13ms/step - loss: 0.1585 - accuracy: 0.9455\n",
      "Epoch 85/100\n",
      "27/27 [==============================] - 0s 11ms/step - loss: 0.1562 - accuracy: 0.9444\n",
      "Epoch 86/100\n",
      "27/27 [==============================] - 0s 11ms/step - loss: 0.1565 - accuracy: 0.9455\n",
      "Epoch 87/100\n",
      "27/27 [==============================] - 0s 11ms/step - loss: 0.1526 - accuracy: 0.9467\n",
      "Epoch 88/100\n",
      "27/27 [==============================] - 0s 11ms/step - loss: 0.1506 - accuracy: 0.9455\n",
      "Epoch 89/100\n",
      "27/27 [==============================] - 0s 12ms/step - loss: 0.1524 - accuracy: 0.9421\n",
      "Epoch 90/100\n",
      "27/27 [==============================] - 0s 11ms/step - loss: 0.1509 - accuracy: 0.9455\n",
      "Epoch 91/100\n",
      "27/27 [==============================] - 0s 11ms/step - loss: 0.1494 - accuracy: 0.9455\n",
      "Epoch 92/100\n",
      "27/27 [==============================] - 0s 10ms/step - loss: 0.1489 - accuracy: 0.9479\n",
      "Epoch 93/100\n",
      "27/27 [==============================] - 0s 10ms/step - loss: 0.1456 - accuracy: 0.9444\n",
      "Epoch 94/100\n",
      "27/27 [==============================] - 0s 10ms/step - loss: 0.1432 - accuracy: 0.9479\n",
      "Epoch 95/100\n",
      "27/27 [==============================] - 0s 11ms/step - loss: 0.1432 - accuracy: 0.9444\n",
      "Epoch 96/100\n",
      "27/27 [==============================] - 0s 11ms/step - loss: 0.1404 - accuracy: 0.9502\n",
      "Epoch 97/100\n",
      "27/27 [==============================] - 0s 11ms/step - loss: 0.1414 - accuracy: 0.9455\n",
      "Epoch 98/100\n",
      "27/27 [==============================] - 0s 10ms/step - loss: 0.1393 - accuracy: 0.9444\n",
      "Epoch 99/100\n",
      "27/27 [==============================] - 0s 10ms/step - loss: 0.1398 - accuracy: 0.9397\n",
      "Epoch 100/100\n",
      "27/27 [==============================] - 0s 10ms/step - loss: 0.1396 - accuracy: 0.9455\n"
     ]
    },
    {
     "data": {
      "text/plain": [
       "<keras.callbacks.History at 0x2894623aee0>"
      ]
     },
     "execution_count": 16,
     "metadata": {},
     "output_type": "execute_result"
    }
   ],
   "source": [
    "model.fit(X,y,epochs=100)"
   ]
  },
  {
   "cell_type": "code",
   "execution_count": 22,
   "metadata": {},
   "outputs": [
    {
     "name": "stdout",
     "output_type": "stream",
     "text": [
      "1/1 [==============================] - 0s 18ms/step\n",
      "The data science course is\n",
      "1/1 [==============================] - 0s 15ms/step\n",
      "The data science course is not\n",
      "1/1 [==============================] - 0s 19ms/step\n",
      "The data science course is not provided\n",
      "1/1 [==============================] - 0s 15ms/step\n",
      "The data science course is not provided the\n",
      "1/1 [==============================] - 0s 22ms/step\n",
      "The data science course is not provided the mentorship\n",
      "1/1 [==============================] - 0s 15ms/step\n",
      "The data science course is not provided the mentorship program\n",
      "1/1 [==============================] - 0s 19ms/step\n",
      "The data science course is not provided the mentorship program dsmp\n",
      "1/1 [==============================] - 0s 20ms/step\n",
      "The data science course is not provided the mentorship program dsmp 2023\n",
      "1/1 [==============================] - 0s 18ms/step\n",
      "The data science course is not provided the mentorship program dsmp 2023 2023\n",
      "1/1 [==============================] - 0s 15ms/step\n",
      "The data science course is not provided the mentorship program dsmp 2023 2023 637339afe4b0615a1bbed390\n",
      "1/1 [==============================] - 0s 18ms/step\n",
      "The data science course is not provided the mentorship program dsmp 2023 2023 637339afe4b0615a1bbed390 637339afe4b0615a1bbed390\n",
      "1/1 [==============================] - 0s 16ms/step\n",
      "The data science course is not provided the mentorship program dsmp 2023 2023 637339afe4b0615a1bbed390 637339afe4b0615a1bbed390 matter\n",
      "1/1 [==============================] - 0s 16ms/step\n",
      "The data science course is not provided the mentorship program dsmp 2023 2023 637339afe4b0615a1bbed390 637339afe4b0615a1bbed390 matter even\n"
     ]
    }
   ],
   "source": [
    "import time \n",
    "text = 'The data science course' \n",
    "\n",
    "for i in range(18):\n",
    "    #tokenize \n",
    "    token_text = tokenizer.texts_to_sequences([text])[0]\n",
    "    #  padding\n",
    "    padded_token_text = pad_sequences([token_text],maxlen=56,padding='pre')\n",
    "    #  predict\n",
    "    pos = np.argmax(model.predict(padded_token_text))\n",
    "\n",
    "    for word,index in tokenizer.word_index.items():\n",
    "        if index == pos:\n",
    "            text = text + \" \" + word\n",
    "            print(text)\n",
    "            time.sleep(1)"
   ]
  },
  {
   "cell_type": "code",
   "execution_count": null,
   "metadata": {},
   "outputs": [],
   "source": []
  }
 ],
 "metadata": {
  "kernelspec": {
   "display_name": "brain",
   "language": "python",
   "name": "python3"
  },
  "language_info": {
   "codemirror_mode": {
    "name": "ipython",
    "version": 3
   },
   "file_extension": ".py",
   "mimetype": "text/x-python",
   "name": "python",
   "nbconvert_exporter": "python",
   "pygments_lexer": "ipython3",
   "version": "3.9.18"
  }
 },
 "nbformat": 4,
 "nbformat_minor": 2
}
